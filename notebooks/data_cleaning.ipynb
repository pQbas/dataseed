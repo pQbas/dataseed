{
 "cells": [
  {
   "cell_type": "code",
   "execution_count": 1,
   "metadata": {},
   "outputs": [],
   "source": [
    "import numpy as np\n",
    "import matplotlib.pyplot as plt\n",
    "import cv2\n",
    "import pandas as pd\n",
    "import os\n",
    "import os.path\n",
    "import shutil\n",
    "import uuid\n",
    "from utils import *\n",
    "import pandas\n"
   ]
  },
  {
   "cell_type": "code",
   "execution_count": 2,
   "metadata": {},
   "outputs": [],
   "source": [
    "folders_to_include = [\n",
    "    \"03_03_23\",\n",
    "    #\"03_03_23_2\",\n",
    "    #\"17_03_23\",\n",
    "    #\"24_03_23\",\n",
    "    #\"31_03_23\"\n",
    "]\n",
    "\n",
    "\n",
    "dataset = {\n",
    "    'horizontal_area': [],\n",
    "    'vertical_area': [],\n",
    "    \n",
    "    'horizontal_height': [],\n",
    "    'vertical_height': [],\n",
    "    \n",
    "    'horizontal_width': [],\n",
    "    'vertical_width': [],\n",
    "\n",
    "    'horizontal_mask_path': [],\n",
    "    'vertical_mask_path': [],\n",
    "\n",
    "    'horizontal_rgb_path': [],\n",
    "    'vertical_rgb_path': [],\n",
    "\n",
    "    'horizontal_depth_path': [],\n",
    "    'vertical_depth_path': []\n",
    "    #'length': []\n",
    "}\n",
    "\n",
    "\n",
    "gallery_path = [\n",
    "    \"03_03_23\",\n",
    "    \"03_03_23_2\",\n",
    "    \"17_03_23\",\n",
    "    \"24_03_23\",\n",
    "    \"31_03_23\",\n",
    "]"
   ]
  },
  {
   "cell_type": "code",
   "execution_count": 3,
   "metadata": {},
   "outputs": [
    {
     "name": "stdout",
     "output_type": "stream",
     "text": [
      "% percentage_cells: 59.72222222222222\n"
     ]
    }
   ],
   "source": [
    "\n",
    "df = pd.read_csv(\"/home/pqbas/projects/LABINM_Robotics_Automation/SeedlingsNet/classifiers/data/data/raw/31_03_23/alturas.csv\")\n",
    "\n",
    "n_cells_wihtout_seedlings = (df[:][:] == -1).sum().sum()\n",
    "total_cells = df.size\n",
    "\n",
    "print('% percentage_cells:', ((total_cells - n_cells_wihtout_seedlings)/total_cells)*100)"
   ]
  },
  {
   "cell_type": "code",
   "execution_count": 4,
   "metadata": {},
   "outputs": [],
   "source": [
    "\n",
    "def clean_data(folder_path, csv_path):\n",
    "\n",
    "    csv_file = find_csv_files(directory=folder_path)\n",
    "\n",
    "    if csv_file:\n",
    "        df = pd.read_csv(csv_file[0]) \n",
    "\n",
    "    for x in range(1,13):\n",
    "        for y in range(1,7):\n",
    "\n",
    "            # ------------- VERIFICA IMAGENES -------------- #\n",
    "            does_exist_seed = True\n",
    "            mask = {}\n",
    "            for image_type in ['horizontal','vertical']:        \n",
    "                mask_path = os.path.join(folder_path, image_type,f\"mask/seedlings_mask_{x}_{y}.jpg\")\n",
    "                try:\n",
    "                    mask[image_type] = plt.imread(mask_path)\n",
    "                except:\n",
    "                    does_exist_seed *= does_exist_seed*False\n",
    "            \n",
    "            \n",
    "            #-------------- IMPORTAR DATOS ----------------- #\n",
    "            \n",
    "            if does_exist_seed:\n",
    "\n",
    "                RAW_DATA = {}\n",
    "                for image_type in ['horizontal','vertical']:\n",
    "                    RAW_DATA[image_type] = from_mask_to_data(mask[image_type])\n",
    "                    \n",
    "\n",
    "                for image_type in ['horizontal', 'vertical']:\n",
    "\n",
    "                    area = RAW_DATA[image_type]['area']\n",
    "                    width = RAW_DATA[image_type]['width']\n",
    "                    height = RAW_DATA[image_type]['height']\n",
    "                    mask_path = os.path.join(folder_path, image_type,f\"mask/seedlings_mask_{x}_{y}.jpg\")\n",
    "                    rgb_path = os.path.join(folder_path, image_type,f\"rgb/seedlings_{x}_{y}.jpg\")\n",
    "                    depth_path = os.path.join(folder_path, image_type,f\"depth/seedlings_{x}_{y}.jpg\")\n",
    "\n",
    "                    dataset[f'{image_type}_area'].append(area)\n",
    "                    dataset[f'{image_type}_width'].append(width)\n",
    "                    dataset[f'{image_type}_height'].append(height)\n",
    "                    dataset[f'{image_type}_mask_path'].append(mask_path)\n",
    "                    dataset[f'{image_type}_rgb_path'].append(rgb_path)\n",
    "                    dataset[f'{image_type}_depth_path'].append(depth_path)\n",
    "\n",
    "\n",
    "    # ----------- GUARDANDO DATOS --------------- #\n",
    "    dataframe = pandas.DataFrame(dataset)\n",
    "    dataframe.to_csv(csv_path, index=False)\n",
    "    dataframe\n"
   ]
  },
  {
   "cell_type": "code",
   "execution_count": null,
   "metadata": {},
   "outputs": [],
   "source": [
    "folder = \"/home/pqbas/projects/LABINM_Robotics_Automation/SeedlingsNet/classifiers/data/data/raw/31_03_23\" #\"dataset\"\n",
    "csv = './31_03_23.csv'\n",
    "clean_data(folder, csv)"
   ]
  }
 ],
 "metadata": {
  "kernelspec": {
   "display_name": "iot",
   "language": "python",
   "name": "python3"
  },
  "language_info": {
   "codemirror_mode": {
    "name": "ipython",
    "version": 3
   },
   "file_extension": ".py",
   "mimetype": "text/x-python",
   "name": "python",
   "nbconvert_exporter": "python",
   "pygments_lexer": "ipython3",
   "version": "3.8.10"
  }
 },
 "nbformat": 4,
 "nbformat_minor": 2
}
